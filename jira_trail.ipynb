{
 "cells": [
  {
   "cell_type": "code",
   "execution_count": 74,
   "metadata": {
    "collapsed": true
   },
   "outputs": [],
   "source": [
    "import pickle\n",
    "\n",
    "import requests\n",
    "from dateutil.parser import parse\n",
    "from jira import JIRA\n",
    "from pymongo import MongoClient\n",
    "\n",
    "%matplotlib inline\n",
    "from flask import Flask\n",
    "from flask import jsonify\n",
    "\n",
    "from pymongo import MongoClient\n",
    "import pandas as pd\n",
    "from datetime import datetime, timedelta\n",
    "from collections import Counter\n",
    "from statistics import mean\n",
    "from itertools import groupby\n",
    "\n",
    "\n",
    "import statsmodels.api as sm\n",
    "import matplotlib.pyplot as plt\n",
    "plt.style.use('fivethirtyeight')\n",
    "\n",
    "import numpy as np\n",
    "import itertools\n",
    "import warnings\n",
    "\n",
    "from statsmodels.tsa.arima_model import ARIMA\n",
    "from statsmodels.tsa.stattools import adfuller\n",
    "from sklearn.metrics import mean_squared_error\n",
    "\n",
    "import requests"
   ]
  },
  {
   "cell_type": "code",
   "execution_count": 75,
   "metadata": {},
   "outputs": [],
   "source": [
    "client = MongoClient('localhost:27017')\n",
    "db = client.poc_teradata"
   ]
  },
  {
   "cell_type": "code",
   "execution_count": 84,
   "metadata": {},
   "outputs": [],
   "source": [
    "mg_boards = db.boards\n",
    "\n",
    "board_ids = [board['_id'] for board in mg_boards.find({})]"
   ]
  },
  {
   "cell_type": "code",
   "execution_count": 77,
   "metadata": {},
   "outputs": [],
   "source": [
    "board_project_dict = {\n",
    "    513: 'TDMC',\n",
    "    491:'VED',\n",
    "    419:'TAWS',\n",
    "    600: 'TAZURE'\n",
    "}"
   ]
  },
  {
   "cell_type": "code",
   "execution_count": 78,
   "metadata": {},
   "outputs": [],
   "source": [
    "data = {\n",
    "        'jql': \"project in ('TDMC') and (type=larva OR type=bug)\"\n",
    "    }\n",
    "\n",
    "url = \"https://jira.td.teradata.com/jira/rest/api/2/search?jql=project in ('TDMC') and (type=larva OR type=bug)\"\n",
    "\n",
    "response = requests.get(url, auth=('aw186034', 'GRAY5sky')).json()"
   ]
  },
  {
   "cell_type": "code",
   "execution_count": 79,
   "metadata": {},
   "outputs": [],
   "source": [
    "def get_response(project_name):\n",
    "    print(project_name)\n",
    "\n",
    "    url = f\"https://jira.td.teradata.com/jira/rest/api/2/search?jql=project in ('{project_name}') and (type=larva OR type=bug)\"\n",
    "\n",
    "    response = requests.get(url, auth=('aw186034', 'GRAY5sky')).json()\n",
    "    return response"
   ]
  },
  {
   "cell_type": "code",
   "execution_count": 80,
   "metadata": {
    "collapsed": true
   },
   "outputs": [],
   "source": [
    "def get_issues(issues, board_id):\n",
    "    result = []\n",
    "    for issue in issues:\n",
    "        key = issue['key']\n",
    "        id = issue['id']\n",
    "        assignee_dict = issue['fields']['assignee']\n",
    "        status = issue['fields']['status']['name']\n",
    "        issue_type = issue['fields']['issuetype']['name']\n",
    "        created = parse(issue['fields']['created'])\n",
    "        issue_dict = {'key': key, '_id': id, 'board_id': board_id, 'assignee' : assignee_dict, 'status':status, 'issueType': issue_type, 'created' : created}\n",
    "        result.append(issue_dict)\n",
    "    return result"
   ]
  },
  {
   "cell_type": "code",
   "execution_count": 81,
   "metadata": {},
   "outputs": [
    {
     "name": "stdout",
     "output_type": "stream",
     "text": [
      "TDMC\n"
     ]
    },
    {
     "name": "stdout",
     "output_type": "stream",
     "text": [
      "VED\n"
     ]
    },
    {
     "name": "stdout",
     "output_type": "stream",
     "text": [
      "TAWS\n"
     ]
    },
    {
     "name": "stdout",
     "output_type": "stream",
     "text": [
      "TAZURE\n"
     ]
    }
   ],
   "source": [
    "result = []\n",
    "\n",
    "for board, project in board_project_dict.items():\n",
    "    response = get_response(project)\n",
    "    issues = get_issues(response['issues'], board)\n",
    "    result.extend(issues)"
   ]
  },
  {
   "cell_type": "code",
   "execution_count": 82,
   "metadata": {},
   "outputs": [
    {
     "data": {
      "text/plain": [
       "196"
      ]
     },
     "execution_count": 82,
     "metadata": {},
     "output_type": "execute_result"
    }
   ],
   "source": [
    "len(result)"
   ]
  },
  {
   "cell_type": "code",
   "execution_count": 83,
   "metadata": {},
   "outputs": [],
   "source": [
    "mg_issues = db.issues\n",
    "\n",
    "ids = mg_issues.insert_many(result)"
   ]
  },
  {
   "cell_type": "code",
   "execution_count": 93,
   "metadata": {},
   "outputs": [],
   "source": [
    "board_id = 600\n",
    "issues = list(mg_issues.find({'board_id': board_id}, {'_id': 0, 'created': 1, 'issueType': 1}))\n",
    "\n",
    "\n",
    "for issue in issues:\n",
    "    issue['created'] = issue['created'].strftime(\"%Y%m%d\")"
   ]
  },
  {
   "cell_type": "code",
   "execution_count": 103,
   "metadata": {},
   "outputs": [],
   "source": [
    "sorted_issues = sorted(issues, key=lambda k: k['created'])\n",
    "\n",
    "result = {}\n",
    "prev_larva = 0\n",
    "prev_bug = 0\n",
    "for issue in sorted_issues:\n",
    "    date = issue['created']\n",
    "    type = issue['issueType']\n",
    "    if type == 'Bug':\n",
    "        prev_bug += 1\n",
    "    elif type == 'Larva':\n",
    "        prev_larva += 1\n",
    "    result[date] = {'larva': prev_larva, 'bug': prev_bug}"
   ]
  },
  {
   "cell_type": "code",
   "execution_count": 105,
   "metadata": {
    "collapsed": true
   },
   "outputs": [
    {
     "data": {
      "text/plain": [
       "[{'Bug': 1, 'Larva': 0, 'date': '20161219'},\n {'Bug': 2, 'Larva': 0, 'date': '20161220'},\n {'Bug': 3, 'Larva': 0, 'date': '20161221'},\n {'Bug': 5, 'Larva': 0, 'date': '20161222'},\n {'Bug': 6, 'Larva': 0, 'date': '20161224'},\n {'Bug': 7, 'Larva': 0, 'date': '20161228'},\n {'Bug': 8, 'Larva': 0, 'date': '20170103'},\n {'Bug': 9, 'Larva': 0, 'date': '20170105'},\n {'Bug': 11, 'Larva': 0, 'date': '20170106'},\n {'Bug': 12, 'Larva': 0, 'date': '20170118'},\n {'Bug': 13, 'Larva': 0, 'date': '20170124'},\n {'Bug': 14, 'Larva': 0, 'date': '20170126'},\n {'Bug': 15, 'Larva': 0, 'date': '20170127'},\n {'Bug': 16, 'Larva': 0, 'date': '20170220'},\n {'Bug': 17, 'Larva': 0, 'date': '20170306'},\n {'Bug': 18, 'Larva': 0, 'date': '20170313'},\n {'Bug': 19, 'Larva': 0, 'date': '20170316'},\n {'Bug': 20, 'Larva': 0, 'date': '20170328'},\n {'Bug': 21, 'Larva': 0, 'date': '20170331'},\n {'Bug': 22, 'Larva': 0, 'date': '20170404'},\n {'Bug': 25, 'Larva': 0, 'date': '20170427'},\n {'Bug': 26, 'Larva': 0, 'date': '20170518'},\n {'Bug': 27, 'Larva': 0, 'date': '20170531'},\n {'Bug': 27, 'Larva': 4, 'date': '20170606'},\n {'Bug': 28, 'Larva': 5, 'date': '20170608'},\n {'Bug': 29, 'Larva': 6, 'date': '20170612'},\n {'Bug': 31, 'Larva': 8, 'date': '20170613'},\n {'Bug': 32, 'Larva': 9, 'date': '20170619'},\n {'Bug': 33, 'Larva': 10, 'date': '20170621'},\n {'Bug': 33, 'Larva': 11, 'date': '20170721'},\n {'Bug': 34, 'Larva': 12, 'date': '20170731'},\n {'Bug': 35, 'Larva': 13, 'date': '20170801'},\n {'Bug': 36, 'Larva': 14, 'date': '20170809'}]"
      ]
     },
     "execution_count": 105,
     "metadata": {},
     "output_type": "execute_result"
    }
   ],
   "source": [
    "result = []\n",
    "\n",
    "for date, value in result_dict.items():\n",
    "    response_dict = {'date':date, 'Bug':value['bug'], 'Larva':value['larva']}\n",
    "    result.append(response_dict)\n",
    "    \n",
    "result"
   ]
  },
  {
   "cell_type": "code",
   "execution_count": null,
   "metadata": {},
   "outputs": [],
   "source": [
    ""
   ]
  }
 ],
 "metadata": {
  "kernelspec": {
   "display_name": "Python 2",
   "language": "python",
   "name": "python2"
  },
  "language_info": {
   "codemirror_mode": {
    "name": "ipython",
    "version": 2.0
   },
   "file_extension": ".py",
   "mimetype": "text/x-python",
   "name": "python",
   "nbconvert_exporter": "python",
   "pygments_lexer": "ipython2",
   "version": "2.7.6"
  }
 },
 "nbformat": 4,
 "nbformat_minor": 0
}